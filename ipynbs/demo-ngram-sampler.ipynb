{
 "cells": [
  {
   "cell_type": "code",
   "execution_count": 1,
   "metadata": {
    "collapsed": false
   },
   "outputs": [
    {
     "name": "stdout",
     "output_type": "stream",
     "text": [
      "ptt_gossiping_push.txt\r\n"
     ]
    }
   ],
   "source": [
    "!cd ../data && tar xfzv ptt_gossiping_push.tar.gz"
   ]
  },
  {
   "cell_type": "code",
   "execution_count": 2,
   "metadata": {
    "collapsed": false
   },
   "outputs": [
    {
     "name": "stdout",
     "output_type": "stream",
     "text": [
      "ptt_gossiping_push.tar.gz  ptt_gossiping_push.txt\r\n"
     ]
    }
   ],
   "source": [
    "ls ../data"
   ]
  },
  {
   "cell_type": "code",
   "execution_count": 3,
   "metadata": {
    "collapsed": false
   },
   "outputs": [],
   "source": [
    "with open(\"../data/ptt_gossiping_push.txt\",\"r\") as rf:\n",
    "    texts = map(lambda xx:xx.decode(\"utf8\"),rf.read().split(\"\\n\"))"
   ]
  },
  {
   "cell_type": "code",
   "execution_count": 4,
   "metadata": {
    "collapsed": false
   },
   "outputs": [
    {
     "data": {
      "text/plain": [
       "[u'9.2\\u9019\\u592a\\u6545\\u610f\\u4e86',\n",
       " u'\\u65fa\\u4e2d\\u84c4\\u610f\\u6311\\u64a5  \\u4e3b\\u5b50\\u53c8\\u53d7\\u8fb1  O\\u8ff7\\u770b\\u5f97\\u597d\\u5fc3\\u75bc',\n",
       " u'\\u4e2d\\u6642\\u7684\\u6c11\\u8abf\\u5be6\\u5728\\u662f\\u6c92\\u6709\\u5206\\u6790\\u7684\\u50f9\\u503c \\u5f88\\u591a\\u6c11\\u8abf\\u90fd\\u505a\\u904e\\u8a87\\u5f35\\u7684',\n",
       " u'\\u8abf\\u6574 \\u4f46\\u662f\\u6709\\u4e9b\\u6c92\\u6709 \\u6574\\u9ad4\\u4f86\\u8aaa\\u5206\\u6790\\u81ea\\u7531tvbs\\u58f9\\u96fb\\u8996\\u9019\\u4e09\\u5bb6',\n",
       " u'\\u7684\\u5c31\\u5920\\u4e86',\n",
       " u'\\u4e0d\\u6562\\u76f8\\u4fe1\\u9019\\u662f\\u65fa\\u65fa\\u4e2d\\u6642\\u505a\\u7684\\u6c11\\u8abf',\n",
       " u'\\u73fe\\u5728\\u5c11\\u5eb7\\u6230\\u60c5\\u5ba4\\u5df2\\u7d93\\u5feb\\u6bd4\\u65fa\\u4e2d\\u7684\\u65b0\\u805e\\u548c\\u7bc0\\u76ee\\u9084\\u53ef\\u7b11\\u4e86',\n",
       " u'\\u4e2d\\u5929\\u88ab\\u76dc\\u5e33\\u865f\\uff1f\\uff1f\\uff1f',\n",
       " u'\\u5783\\u573e\\u80a5\\u83ca\\u6191\\u4ec0\\u9ebc\\u6eff\\u610f\\u5ea6\\u6108\\u4f86\\u6108\\u9ad8  \\u88dc\\u500b\\u5e79',\n",
       " u'\\u554a\\u4e0d\\u5c31\\u597d\\u5e78\\u798f']"
      ]
     },
     "execution_count": 4,
     "metadata": {},
     "output_type": "execute_result"
    }
   ],
   "source": [
    "texts[:10]"
   ]
  },
  {
   "cell_type": "code",
   "execution_count": 5,
   "metadata": {
    "collapsed": false
   },
   "outputs": [],
   "source": [
    "import pandas as pd\n",
    "from chisel.samplers import ngram"
   ]
  },
  {
   "cell_type": "code",
   "execution_count": 6,
   "metadata": {
    "collapsed": false
   },
   "outputs": [],
   "source": [
    "win_size = 10\n",
    "col_names = map(lambda xx:\"w%s\" % xx, range(1,win_size+1))\n",
    "\n",
    "dfs = []\n",
    "for text in texts[:10000]:\n",
    "    df = pd.DataFrame(ngram(text,win_size,with_complete_tail=True),columns=col_names)\n",
    "    dfs.append(df)\n",
    "\n",
    "total_df = pd.concat(dfs)"
   ]
  },
  {
   "cell_type": "code",
   "execution_count": 7,
   "metadata": {
    "collapsed": true
   },
   "outputs": [],
   "source": [
    "summary = total_df.groupby([\"w1\",\"w2\",\"w3\"]).size()\n",
    "summary.sort(ascending=False)\n",
    "df = summary.reset_index()\n",
    "cols = df.columns.tolist()\n",
    "cols[-1] = \"n\"\n",
    "df.columns = cols"
   ]
  },
  {
   "cell_type": "code",
   "execution_count": 8,
   "metadata": {
    "collapsed": false
   },
   "outputs": [
    {
     "data": {
      "text/html": [
       "<div>\n",
       "<table border=\"1\" class=\"dataframe\">\n",
       "  <thead>\n",
       "    <tr style=\"text-align: right;\">\n",
       "      <th></th>\n",
       "      <th>w1</th>\n",
       "      <th>w2</th>\n",
       "      <th>w3</th>\n",
       "      <th>n</th>\n",
       "    </tr>\n",
       "  </thead>\n",
       "  <tbody>\n",
       "    <tr>\n",
       "      <th>0</th>\n",
       "      <td>.</td>\n",
       "      <td>.</td>\n",
       "      <td>.</td>\n",
       "      <td>2120</td>\n",
       "    </tr>\n",
       "    <tr>\n",
       "      <th>1</th>\n",
       "      <td></td>\n",
       "      <td></td>\n",
       "      <td></td>\n",
       "      <td>1615</td>\n",
       "    </tr>\n",
       "    <tr>\n",
       "      <th>2</th>\n",
       "      <td>.</td>\n",
       "      <td>\u0000</td>\n",
       "      <td>\u0000</td>\n",
       "      <td>732</td>\n",
       "    </tr>\n",
       "    <tr>\n",
       "      <th>3</th>\n",
       "      <td>.</td>\n",
       "      <td>.</td>\n",
       "      <td>\u0000</td>\n",
       "      <td>699</td>\n",
       "    </tr>\n",
       "    <tr>\n",
       "      <th>4</th>\n",
       "      <td>!</td>\n",
       "      <td>!</td>\n",
       "      <td>!</td>\n",
       "      <td>670</td>\n",
       "    </tr>\n",
       "  </tbody>\n",
       "</table>\n",
       "</div>"
      ],
      "text/plain": [
       "  w1 w2 w3     n\n",
       "0  .  .  .  2120\n",
       "1           1615\n",
       "2  .  \u0000  \u0000   732\n",
       "3  .  .  \u0000   699\n",
       "4  !  !  !   670"
      ]
     },
     "execution_count": 8,
     "metadata": {},
     "output_type": "execute_result"
    }
   ],
   "source": [
    "df.head()"
   ]
  },
  {
   "cell_type": "code",
   "execution_count": 9,
   "metadata": {
    "collapsed": false
   },
   "outputs": [
    {
     "data": {
      "text/html": [
       "<div>\n",
       "<table border=\"1\" class=\"dataframe\">\n",
       "  <thead>\n",
       "    <tr style=\"text-align: right;\">\n",
       "      <th></th>\n",
       "      <th>w1</th>\n",
       "      <th>w2</th>\n",
       "      <th>w3</th>\n",
       "      <th>n</th>\n",
       "    </tr>\n",
       "  </thead>\n",
       "  <tbody>\n",
       "    <tr>\n",
       "      <th>3416</th>\n",
       "      <td>T</td>\n",
       "      <td>_</td>\n",
       "      <td>T</td>\n",
       "      <td>4</td>\n",
       "    </tr>\n",
       "    <tr>\n",
       "      <th>8336</th>\n",
       "      <td>T</td>\n",
       "      <td>口</td>\n",
       "      <td>T</td>\n",
       "      <td>2</td>\n",
       "    </tr>\n",
       "    <tr>\n",
       "      <th>38410</th>\n",
       "      <td>T</td>\n",
       "      <td>K</td>\n",
       "      <td>T</td>\n",
       "      <td>1</td>\n",
       "    </tr>\n",
       "    <tr>\n",
       "      <th>38465</th>\n",
       "      <td>T</td>\n",
       "      <td>A</td>\n",
       "      <td>T</td>\n",
       "      <td>1</td>\n",
       "    </tr>\n",
       "    <tr>\n",
       "      <th>38525</th>\n",
       "      <td>T</td>\n",
       "      <td>&amp;</td>\n",
       "      <td>T</td>\n",
       "      <td>1</td>\n",
       "    </tr>\n",
       "  </tbody>\n",
       "</table>\n",
       "</div>"
      ],
      "text/plain": [
       "      w1 w2 w3  n\n",
       "3416   T  _  T  4\n",
       "8336   T  口  T  2\n",
       "38410  T  K  T  1\n",
       "38465  T  A  T  1\n",
       "38525  T  &  T  1"
      ]
     },
     "execution_count": 9,
     "metadata": {},
     "output_type": "execute_result"
    }
   ],
   "source": [
    "df.query(\"w1 == 'T' & w3 == 'T'\")"
   ]
  },
  {
   "cell_type": "code",
   "execution_count": null,
   "metadata": {
    "collapsed": true
   },
   "outputs": [],
   "source": []
  }
 ],
 "metadata": {
  "kernelspec": {
   "display_name": "Python 2",
   "language": "python",
   "name": "python2"
  },
  "language_info": {
   "codemirror_mode": {
    "name": "ipython",
    "version": 2
   },
   "file_extension": ".py",
   "mimetype": "text/x-python",
   "name": "python",
   "nbconvert_exporter": "python",
   "pygments_lexer": "ipython2",
   "version": "2.7.11"
  }
 },
 "nbformat": 4,
 "nbformat_minor": 0
}
